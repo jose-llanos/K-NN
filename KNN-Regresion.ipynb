{
 "cells": [
  {
   "cell_type": "markdown",
   "metadata": {},
   "source": [
    "**Importo las librerias**\n",
    "\n",
    "* En el siguiente ejemplo, el precio de alquiler mensual se predice en función de los metros cuadrados (m2).\n",
    "\n",
    "* Utiliza la implementación de KNeighborsRegressor de sklearn. \n",
    "\n",
    "* K se establece en los 2 vecinos más cercanos.\n",
    "\n",
    "Basado en: https://pythonbasics.org/k-nearest-neighbors/"
   ]
  },
  {
   "cell_type": "code",
   "execution_count": 11,
   "metadata": {},
   "outputs": [],
   "source": [
    "# Algoritmo K-NN de regresión\n",
    "from sklearn.neighbors import KNeighborsRegressor"
   ]
  },
  {
   "cell_type": "markdown",
   "metadata": {},
   "source": [
    "**Genero los datos para la regresión**"
   ]
  },
  {
   "cell_type": "code",
   "execution_count": 12,
   "metadata": {},
   "outputs": [],
   "source": [
    "# dataset (X=m2, y=precio de alquiler)\n",
    "X = [[40], [45], [60], [70]]\n",
    "y = [1000, 1200, 2000, 2500]"
   ]
  },
  {
   "cell_type": "markdown",
   "metadata": {},
   "source": [
    "**K-NN Regresion**"
   ]
  },
  {
   "cell_type": "code",
   "execution_count": 14,
   "metadata": {},
   "outputs": [
    {
     "name": "stdout",
     "output_type": "stream",
     "text": [
      "Precio renta mensual para 65m2 es: \n",
      "[2250.]\n"
     ]
    }
   ],
   "source": [
    "# K-NN regresion de sklearn\n",
    "neigh = KNeighborsRegressor(n_neighbors=2)\n",
    "neigh.fit(X, y)\n",
    "\n",
    "# Predicción\n",
    "print('Precio renta mensual para 65m2 es: '),\n",
    "print(neigh.predict([[65]]))\n"
   ]
  }
 ],
 "metadata": {
  "kernelspec": {
   "display_name": "Python 3",
   "language": "python",
   "name": "python3"
  },
  "language_info": {
   "codemirror_mode": {
    "name": "ipython",
    "version": 3
   },
   "file_extension": ".py",
   "mimetype": "text/x-python",
   "name": "python",
   "nbconvert_exporter": "python",
   "pygments_lexer": "ipython3",
   "version": "3.8.3"
  }
 },
 "nbformat": 4,
 "nbformat_minor": 4
}
